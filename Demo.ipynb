{
 "cells": [
  {
   "cell_type": "markdown",
   "metadata": {},
   "source": [
    "#### Import Dependency ####\n",
    "<b>Package Name</b> ecom_finder\n",
    "<b>Methods </b> find() / find_by_voice() / find_by_image()"
   ]
  },
  {
   "cell_type": "code",
   "execution_count": 1,
   "metadata": {},
   "outputs": [],
   "source": [
    "import ecom_finder as ef"
   ]
  },
  {
   "cell_type": "markdown",
   "metadata": {},
   "source": [
    "##### Find Products by text ####"
   ]
  },
  {
   "cell_type": "code",
   "execution_count": 2,
   "metadata": {},
   "outputs": [
    {
     "name": "stdout",
     "output_type": "stream",
     "text": [
      "-------------------------------------------------------------------------------------------------------------\n",
      "New Apple iPhone 12 (128GB) - Black\n",
      "Amazon\n",
      "79,899\n",
      "https://amazon.com/New-Apple-iPhone-12-128GB/dp/B08L5WD9D6/ref=sr_1_1?dchild=1&keywords=iphone+12&qid=1626032464&sr=8-1\n",
      "-------------------------------------------------------------------------------------------------------------\n",
      "New Apple iPhone 12 (64GB) - White\n",
      "Amazon\n",
      "70,900\n",
      "https://amazon.com/New-Apple-iPhone-12-64GB/dp/B08L5VJYV7/ref=sr_1_2?dchild=1&keywords=iphone+12&qid=1626032464&sr=8-2\n",
      "-------------------------------------------------------------------------------------------------------------\n",
      "New Apple iPhone 12 (128GB) - Blue\n",
      "Amazon\n",
      "80,230\n",
      "https://amazon.com/New-Apple-iPhone-12-128GB/dp/B08L5TNJHG/ref=sr_1_3?dchild=1&keywords=iphone+12&qid=1626032464&sr=8-3\n",
      "-------------------------------------------------------------------------------------------------------------\n",
      "New Apple iPhone 12 (128GB) - White\n",
      "Amazon\n",
      "80,650\n",
      "https://amazon.com/New-Apple-iPhone-12-128GB/dp/B08L5S1NT7/ref=sr_1_4?dchild=1&keywords=iphone+12&qid=1626032464&sr=8-4\n",
      "-------------------------------------------------------------------------------------------------------------\n",
      "New Apple iPhone 12 (64GB) - Green\n",
      "Amazon\n",
      "71,900\n",
      "https://amazon.com/New-Apple-iPhone-12-64GB/dp/B08L5W16HX/ref=sr_1_5?dchild=1&keywords=iphone+12&qid=1626032464&sr=8-5\n"
     ]
    }
   ],
   "source": [
    "result = ef.find(\"iPhone 12\", 5)\n",
    "for result in result:\n",
    "    print(\"-------------------------------------------------------------------------------------------------------------\")\n",
    "    print(result['Product Name'])\n",
    "    print(result['Ecommerce Provider'])\n",
    "    print(result['Price'])\n",
    "    print(result['URL'])"
   ]
  },
  {
   "cell_type": "markdown",
   "metadata": {},
   "source": [
    "##### Find Products by audio input ####"
   ]
  },
  {
   "cell_type": "code",
   "execution_count": 3,
   "metadata": {},
   "outputs": [
    {
     "name": "stdout",
     "output_type": "stream",
     "text": [
      "Are you looking for...\n",
      "You are looking for ... iPhone 12\n",
      "-------------------------------------------------------------------------------------------------------------\n",
      "New Apple iPhone 12 (64GB) - White\n",
      "Amazon\n",
      "70,900\n",
      "https://amazon.com/New-Apple-iPhone-12-64GB/dp/B08L5VJYV7/ref=sr_1_1?dchild=1&keywords=iphone+12&qid=1626032475&sr=8-1\n",
      "-------------------------------------------------------------------------------------------------------------\n",
      "New Apple iPhone 12 (128GB) - Black\n",
      "Amazon\n",
      "79,899\n",
      "https://amazon.com/New-Apple-iPhone-12-128GB/dp/B08L5WD9D6/ref=sr_1_2?dchild=1&keywords=iphone+12&qid=1626032475&sr=8-2\n",
      "-------------------------------------------------------------------------------------------------------------\n",
      "New Apple iPhone 12 (128GB) - Blue\n",
      "Amazon\n",
      "80,230\n",
      "https://amazon.com/New-Apple-iPhone-12-128GB/dp/B08L5TNJHG/ref=sr_1_3?dchild=1&keywords=iphone+12&qid=1626032475&sr=8-3\n",
      "-------------------------------------------------------------------------------------------------------------\n",
      "New Apple iPhone 12 (128GB) - White\n",
      "Amazon\n",
      "80,650\n",
      "https://amazon.com/New-Apple-iPhone-12-128GB/dp/B08L5S1NT7/ref=sr_1_4?dchild=1&keywords=iphone+12&qid=1626032475&sr=8-4\n",
      "-------------------------------------------------------------------------------------------------------------\n",
      "New Apple iPhone 12 (64GB) - Green\n",
      "Amazon\n",
      "71,900\n",
      "https://amazon.com/New-Apple-iPhone-12-64GB/dp/B08L5W16HX/ref=sr_1_5?dchild=1&keywords=iphone+12&qid=1626032475&sr=8-5\n",
      "-------------------------------------------------------------------------------------------------------------\n",
      "New Apple iPhone 12 (64GB) - Black\n",
      "Amazon\n",
      "71,900\n",
      "https://amazon.com/New-Apple-iPhone-12-64GB/dp/B08L5T3S7T/ref=sr_1_6?dchild=1&keywords=iphone+12&qid=1626032475&sr=8-6\n",
      "-------------------------------------------------------------------------------------------------------------\n",
      "New Apple iPhone 12 (64GB) - Blue\n",
      "Amazon\n",
      "72,900\n",
      "https://amazon.com/New-Apple-iPhone-12-64GB/dp/B08L5WHFT9/ref=sr_1_7?dchild=1&keywords=iphone+12&qid=1626032475&sr=8-7\n",
      "-------------------------------------------------------------------------------------------------------------\n",
      "New Apple iPhone 12 (128GB) - (Product) RED\n",
      "Amazon\n",
      "79,900\n",
      "https://amazon.com/New-Apple-iPhone-12-128GB/dp/B08L5WJD1C/ref=sr_1_8?dchild=1&keywords=iphone+12&qid=1626032475&sr=8-8\n",
      "-------------------------------------------------------------------------------------------------------------\n",
      "New Apple iPhone 12 (128GB) - Green\n",
      "Amazon\n",
      "81,500\n",
      "https://amazon.com/New-Apple-iPhone-12-128GB/dp/B08L5VJWCV/ref=sr_1_9?dchild=1&keywords=iphone+12&qid=1626032475&sr=8-9\n",
      "-------------------------------------------------------------------------------------------------------------\n",
      "New Apple iPhone 12 Pro Max (256GB) - Pacific Blue\n",
      "Amazon\n",
      "1,32,200\n",
      "https://amazon.com/New-Apple-iPhone-Pro-256GB/dp/B08L5T31M6/ref=sr_1_11?dchild=1&keywords=iphone+12&qid=1626032475&sr=8-11\n"
     ]
    }
   ],
   "source": [
    "result = ef.find_by_voice(5)\n",
    "for result in result:\n",
    "    print(\"-------------------------------------------------------------------------------------------------------------\")\n",
    "    print(result['Product Name'])\n",
    "    print(result['Ecommerce Provider'])\n",
    "    print(result['Price'])\n",
    "    print(result['URL'])"
   ]
  }
 ],
 "metadata": {
  "kernelspec": {
   "display_name": "Python 3",
   "language": "python",
   "name": "python3"
  },
  "language_info": {
   "codemirror_mode": {
    "name": "ipython",
    "version": 3
   },
   "file_extension": ".py",
   "mimetype": "text/x-python",
   "name": "python",
   "nbconvert_exporter": "python",
   "pygments_lexer": "ipython3",
   "version": "3.7.3"
  }
 },
 "nbformat": 4,
 "nbformat_minor": 2
}
